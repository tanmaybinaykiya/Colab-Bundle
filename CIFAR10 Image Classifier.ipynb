{
  "nbformat": 4,
  "nbformat_minor": 0,
  "metadata": {
    "colab": {
      "name": "DL HW 1.ipynb",
      "version": "0.3.2",
      "provenance": [],
      "collapsed_sections": [],
      "toc_visible": true,
      "include_colab_link": true
    },
    "kernelspec": {
      "name": "python3",
      "display_name": "Python 3"
    },
    "accelerator": "GPU"
  },
  "cells": [
    {
      "cell_type": "markdown",
      "metadata": {
        "id": "view-in-github",
        "colab_type": "text"
      },
      "source": [
        "[View in Colaboratory](https://colab.research.google.com/github/tanmaybinaykiya/Colab-Bundle/blob/master/CIFAR10%20Image%20Classifier.ipynb)"
      ]
    },
    {
      "metadata": {
        "id": "YRQcGAwgQONq",
        "colab_type": "text"
      },
      "cell_type": "markdown",
      "source": [
        "# Install Pytorch"
      ]
    },
    {
      "metadata": {
        "id": "1_pcD7rPPXdv",
        "colab_type": "code",
        "colab": {
          "base_uri": "https://localhost:8080/",
          "height": 139
        },
        "outputId": "faa13c47-8c8d-4ca1-bbb2-2cec7e9be320"
      },
      "cell_type": "code",
      "source": [
        "# http://pytorch.org/\n",
        "from os import path\n",
        "from wheel.pep425tags import get_abbr_impl, get_impl_ver, get_abi_tag\n",
        "platform = '{}{}-{}'.format(get_abbr_impl(), get_impl_ver(), get_abi_tag())\n",
        "\n",
        "accelerator = 'cu80' if path.exists('/opt/bin/nvidia-smi') else 'cpu'\n",
        "print(\"platform, accelerator:\", platform, accelerator)\n",
        "!pip install -v -q http://download.pytorch.org/whl/{accelerator}/torch-0.4.0-{platform}-linux_x86_64.whl torchvision"
      ],
      "execution_count": 2,
      "outputs": [
        {
          "output_type": "stream",
          "text": [
            "platform, accelerator: cp36-cp36m cu80\n",
            "Requirement already satisfied: torch==0.4.0 from http://download.pytorch.org/whl/cu80/torch-0.4.0-cp36-cp36m-linux_x86_64.whl in /usr/local/lib/python3.6/dist-packages (0.4.0)\n",
            "Requirement already satisfied: torchvision in /usr/local/lib/python3.6/dist-packages (0.2.1)\n",
            "Requirement already satisfied: pillow>=4.1.1 in /usr/local/lib/python3.6/dist-packages (from torchvision) (5.3.0)\n",
            "Requirement already satisfied: numpy in /usr/local/lib/python3.6/dist-packages (from torchvision) (1.14.6)\n",
            "Requirement already satisfied: six in /usr/local/lib/python3.6/dist-packages (from torchvision) (1.11.0)\n"
          ],
          "name": "stdout"
        }
      ]
    },
    {
      "metadata": {
        "id": "o8RWuEYKQS1N",
        "colab_type": "text"
      },
      "cell_type": "markdown",
      "source": [
        "# Imports"
      ]
    },
    {
      "metadata": {
        "id": "azqXp0vUkvh0",
        "colab_type": "code",
        "colab": {}
      },
      "cell_type": "code",
      "source": [
        "from __future__ import print_function\n",
        "from PIL import Image\n",
        "import os\n",
        "import os.path\n",
        "import errno\n",
        "import numpy as np\n",
        "import sys\n",
        "if sys.version_info[0] == 2:\n",
        "    import cPickle as pickle\n",
        "else:\n",
        "    import pickle\n",
        "\n",
        "import torch.utils.data as data\n",
        "from torchvision.datasets.utils import download_url, check_integrity"
      ],
      "execution_count": 0,
      "outputs": []
    },
    {
      "metadata": {
        "id": "46Umcq22QZEC",
        "colab_type": "text"
      },
      "cell_type": "markdown",
      "source": [
        "# Utilities"
      ]
    },
    {
      "metadata": {
        "id": "2_VEeJ6YQfJH",
        "colab_type": "text"
      },
      "cell_type": "markdown",
      "source": [
        "## Time Util"
      ]
    },
    {
      "metadata": {
        "id": "98EDdOGQyLAW",
        "colab_type": "code",
        "colab": {
          "base_uri": "https://localhost:8080/",
          "height": 34
        },
        "outputId": "dc8b1fe2-d55f-4455-fe47-65ec38fde5cd"
      },
      "cell_type": "code",
      "source": [
        "import datetime\n",
        "import time\n",
        "\n",
        "def get_time():\n",
        "  ts = time.time()\n",
        "  return str(datetime.datetime.fromtimestamp(ts).strftime('%Y-%m-%d %H:%M:%S'))\n",
        "\n",
        "get_time()"
      ],
      "execution_count": 4,
      "outputs": [
        {
          "output_type": "execute_result",
          "data": {
            "text/plain": [
              "'2018-10-05 02:52:50'"
            ]
          },
          "metadata": {
            "tags": []
          },
          "execution_count": 4
        }
      ]
    },
    {
      "metadata": {
        "id": "g0Td1AyfQh4V",
        "colab_type": "text"
      },
      "cell_type": "markdown",
      "source": [
        "## Google Drive Integration Utils"
      ]
    },
    {
      "metadata": {
        "id": "dCd8Cb_db_gd",
        "colab_type": "code",
        "colab": {}
      },
      "cell_type": "code",
      "source": [
        "is_g_drive_setup = None\n",
        "def setup_googleDrive():\n",
        "  !pip install -U -q PyDrive\n",
        "  !git clone https://gist.github.com/dc7e60aa487430ea704a8cb3f2c5d6a6.git /tmp/colab_util_repo\n",
        "  !mv /tmp/colab_util_repo/colab_util.py colab_util.py \n",
        "  !rm -r /tmp/colab_util_repo\n",
        "  is_g_drive_setup = True"
      ],
      "execution_count": 0,
      "outputs": []
    },
    {
      "metadata": {
        "id": "gyPW4J1ZSqxY",
        "colab_type": "code",
        "colab": {}
      },
      "cell_type": "code",
      "source": [
        "drive_handler = None\n",
        "def setup_drive_handler():\n",
        "  if not is_g_drive_setup:\n",
        "    setup_googleDrive()\n",
        "  drive_handler = GoogleDriveHandler()\n",
        "\n",
        "def upload_to_google_drive(filename):\n",
        "  if not drive_handler:\n",
        "    setup_drive_handler()\n",
        "  drive_handler.upload(filename, parent_path='test_folder')\n",
        "\n",
        "def download_from_google_drive(filename, local_file_name):\n",
        "  if not drive_handler:\n",
        "    setup_drive_handler()\n",
        "  drive_handler.download(filename, local_file_name)\n",
        "\n",
        "def test_g_drive():\n",
        "  !touch emptyFile2\n",
        "  !echo \"Hi\" > emptyFile2\n",
        "  upload_to_google_drive(\"emptyFile2\")\n",
        "  \n",
        "# test_g_drive()"
      ],
      "execution_count": 0,
      "outputs": []
    },
    {
      "metadata": {
        "id": "ycdb-nH8Qm3d",
        "colab_type": "text"
      },
      "cell_type": "markdown",
      "source": [
        "## CIFAR10 Dataset Utilities "
      ]
    },
    {
      "metadata": {
        "id": "UEm_hFESQA03",
        "colab_type": "code",
        "colab": {}
      },
      "cell_type": "code",
      "source": [
        "class CIFAR10(data.Dataset):\n",
        "    \"\"\"`CIFAR10 <https://www.cs.toronto.edu/~kriz/cifar.html>`_ Dataset.\n",
        "    Args:\n",
        "        root (string): Root directory of dataset where directory\n",
        "            ``cifar-10-batches-py`` exists.\n",
        "        train (bool, optional): If True, creates dataset from training set, otherwise\n",
        "            creates from test set.\n",
        "        transform (callable, optional): A function/transform that  takes in an PIL image\n",
        "            and returns a transformed version. E.g, ``transforms.RandomCrop``\n",
        "        target_transform (callable, optional): A function/transform that takes in the\n",
        "            target and transforms it.\n",
        "        download (bool, optional): If true, downloads the dataset from the internet and\n",
        "            puts it in root directory. If dataset is already downloaded, it is not\n",
        "            downloaded again.\n",
        "    \"\"\"\n",
        "    base_folder = 'cifar-10-batches-py'\n",
        "    url = \"http://www.cs.toronto.edu/~kriz/cifar-10-python.tar.gz\"\n",
        "    filename = \"cifar-10-python.tar.gz\"\n",
        "    tgz_md5 = 'c58f30108f718f92721af3b95e74349a'\n",
        "    # validation examples will come from here\n",
        "    train_list = [\n",
        "        ['data_batch_1', 'c99cafc152244af753f735de768cd75f'],\n",
        "        ['data_batch_2', 'd4bba439e000b95fd0a9bffe97cbabec'],\n",
        "        ['data_batch_3', '54ebc095f3ab1f0389bbae665268c751'],\n",
        "        ['data_batch_4', '634d18415352ddfa80567beed471001a'],\n",
        "        ['data_batch_5', '482c414d41f54cd18b22e5b47cb7c3cb'],\n",
        "    ]\n",
        "\n",
        "    test_list = [\n",
        "        ['test_batch', '40351d587109b95175f43aff81a1287e'],\n",
        "    ]\n",
        "\n",
        "    def __init__(self, root, split='train',\n",
        "                 transform=None, target_transform=None,\n",
        "                 download=False, val_samples=1000):\n",
        "        self.root = os.path.expanduser(root)\n",
        "        self.transform = transform\n",
        "        self.target_transform = target_transform\n",
        "        self.split = split # train, val, or test\n",
        "\n",
        "        if download:\n",
        "            self.download()\n",
        "\n",
        "        if not self._check_integrity():\n",
        "            raise RuntimeError('Dataset not found or corrupted.' +\n",
        "                               ' You can use download=True to download it')\n",
        "\n",
        "        # now load the picked numpy arrays\n",
        "        if self.split in ['train', 'val']:\n",
        "            self.train_data = []\n",
        "            self.train_labels = []\n",
        "            for fentry in self.train_list:\n",
        "                f = fentry[0]\n",
        "                file = os.path.join(self.root, self.base_folder, f)\n",
        "                fo = open(file, 'rb')\n",
        "                if sys.version_info[0] == 2:\n",
        "                    entry = pickle.load(fo)\n",
        "                else:\n",
        "                    entry = pickle.load(fo, encoding='latin1')\n",
        "                self.train_data.append(entry['data'])\n",
        "                if 'labels' in entry:\n",
        "                    self.train_labels += entry['labels']\n",
        "                else:\n",
        "                    self.train_labels += entry['fine_labels']\n",
        "                fo.close()\n",
        "\n",
        "            self.train_data = np.concatenate(self.train_data)\n",
        "            self.train_data = self.train_data.reshape((50000, 3, 32, 32))\n",
        "            self.train_data = self.train_data.transpose((0, 2, 3, 1))  # convert to HWC\n",
        "            self.val_data = self.train_data[-val_samples:]\n",
        "            self.val_labels = self.train_labels[-val_samples:]\n",
        "            self.train_data = self.train_data[:-val_samples]\n",
        "            self.train_labels = self.train_labels[:-val_samples]\n",
        "        elif self.split == 'test':\n",
        "            f = self.test_list[0][0]\n",
        "            file = os.path.join(self.root, self.base_folder, f)\n",
        "            fo = open(file, 'rb')\n",
        "            if sys.version_info[0] == 2:\n",
        "                entry = pickle.load(fo)\n",
        "            else:\n",
        "                entry = pickle.load(fo, encoding='latin1')\n",
        "            self.test_data = entry['data']\n",
        "            if 'labels' in entry:\n",
        "                self.test_labels = entry['labels']\n",
        "            else:\n",
        "                self.test_labels = entry['fine_labels']\n",
        "            fo.close()\n",
        "            self.test_data = self.test_data.reshape((10000, 3, 32, 32))\n",
        "            self.test_data = self.test_data.transpose((0, 2, 3, 1))  # convert to HWC\n",
        "        else:\n",
        "            raise Exception('Unkown split {}'.format(self.split))\n",
        "\n",
        "    def __getitem__(self, index):\n",
        "        \"\"\"\n",
        "        Args:\n",
        "            index (int): Index\n",
        "        Returns:\n",
        "            tuple: (image, target) where target is index of the target class.\n",
        "        \"\"\"\n",
        "        if self.split == 'train':\n",
        "            img, target = self.train_data[index], self.train_labels[index]\n",
        "        elif self.split == 'val':\n",
        "            img, target = self.val_data[index], self.val_labels[index]\n",
        "        elif self.split == 'test':\n",
        "            img, target = self.test_data[index], self.test_labels[index]\n",
        "\n",
        "        # doing this so that it is consistent with all other datasets\n",
        "        # to return a PIL Image\n",
        "        img = Image.fromarray(img)\n",
        "\n",
        "        if self.transform is not None:\n",
        "            img = self.transform(img)\n",
        "\n",
        "        if self.target_transform is not None:\n",
        "            target = self.target_transform(target)\n",
        "\n",
        "        return img, target\n",
        "\n",
        "    def __len__(self):\n",
        "        if self.split == 'train':\n",
        "            return len(self.train_data)\n",
        "        elif self.split == 'val':\n",
        "            return len(self.val_data)\n",
        "        elif self.split == 'test':\n",
        "            return len(self.test_data)\n",
        "\n",
        "    def _check_integrity(self):\n",
        "        root = self.root\n",
        "        for fentry in (self.train_list + self.test_list):\n",
        "            filename, md5 = fentry[0], fentry[1]\n",
        "            fpath = os.path.join(root, self.base_folder, filename)\n",
        "            if not check_integrity(fpath, md5):\n",
        "                return False\n",
        "        return True\n",
        "\n",
        "    def download(self):\n",
        "        import tarfile\n",
        "\n",
        "        if self._check_integrity():\n",
        "            print('Files already downloaded and verified')\n",
        "            return\n",
        "\n",
        "        root = self.root\n",
        "        download_url(self.url, root, self.filename, self.tgz_md5)\n",
        "\n",
        "        # extract file\n",
        "        cwd = os.getcwd()\n",
        "        tar = tarfile.open(os.path.join(root, self.filename), \"r:gz\")\n",
        "        os.chdir(root)\n",
        "        tar.extractall()\n",
        "        tar.close()\n",
        "        os.chdir(cwd)\n",
        "\n"
      ],
      "execution_count": 0,
      "outputs": []
    },
    {
      "metadata": {
        "id": "6yiKdMZ_Qz64",
        "colab_type": "text"
      },
      "cell_type": "markdown",
      "source": [
        "# Core Implementation"
      ]
    },
    {
      "metadata": {
        "id": "HgjwQG1pPVo4",
        "colab_type": "code",
        "colab": {}
      },
      "cell_type": "code",
      "source": [
        "import argparse\n",
        "import numpy as np\n",
        "import torch\n",
        "import torch.nn as nn\n",
        "import torch.nn.functional as F\n",
        "import torch.optim as optim\n",
        "from torchvision import transforms\n",
        "from torch.autograd import Variable"
      ],
      "execution_count": 0,
      "outputs": []
    },
    {
      "metadata": {
        "id": "Tmb8UKOMTEUg",
        "colab_type": "text"
      },
      "cell_type": "markdown",
      "source": [
        "## Train"
      ]
    },
    {
      "metadata": {
        "id": "X0SS02amLfXV",
        "colab_type": "code",
        "colab": {}
      },
      "cell_type": "code",
      "source": [
        "def train(epoch, model, train_loader, is_cuda, criterion, optimizer, log_interval, val_loader):\n",
        "    ret_strs = []\n",
        "    model.train()\n",
        "    for batch_idx, batch in enumerate(train_loader):\n",
        "#         print(\"Epoch: \", epoch, \"BatchIdx: \", batch_idx, batch[0].shape[0])\n",
        "        images, targets = Variable(batch[0]), Variable(batch[1])\n",
        "        if is_cuda:\n",
        "            images, targets = images.cuda(), targets.cuda()\n",
        "        loss = criterion(model(images), targets)\n",
        "        optimizer.zero_grad()\n",
        "        loss.backward()\n",
        "        optimizer.step()\n",
        "        if batch_idx % log_interval == 0: \n",
        "            val_loss, val_acc = evaluate(is_cuda=is_cuda, split='val', model=model, criterion=criterion, n_batches=4, loader=val_loader)\n",
        "            train_loss = loss.data[0]\n",
        "            examples_this_epoch = batch_idx * len(images)\n",
        "            epoch_progress = 100. * batch_idx / len(train_loader)\n",
        "            log_string = 'Train Epoch: {} [{}/{} ({:.0f}%)]\\t Train Loss: {:.6f}\\tVal Loss: {:.6f}\\tVal Acc: {}'.format(\n",
        "                epoch, examples_this_epoch, len(train_loader.dataset), epoch_progress, train_loss, val_loss, val_acc)\n",
        "            print(log_string)\n",
        "            ret_strs.append(log_string)\n",
        "\n",
        "    return ret_strs"
      ],
      "execution_count": 0,
      "outputs": []
    },
    {
      "metadata": {
        "id": "BX-END-hTGNU",
        "colab_type": "text"
      },
      "cell_type": "markdown",
      "source": [
        "## Evaluate"
      ]
    },
    {
      "metadata": {
        "id": "r-dMpTJrN-3N",
        "colab_type": "code",
        "colab": {}
      },
      "cell_type": "code",
      "source": [
        "def evaluate(is_cuda, split, model, loader, criterion, verbose=True, n_batches=None):\n",
        "    \"\"\"\n",
        "    Compute loss on val or test data.\n",
        "    \"\"\"\n",
        "    model.eval()\n",
        "    loss = 0\n",
        "    correct = 0\n",
        "    n_examples = 0\n",
        "    for batch_i, batch in enumerate(loader):\n",
        "        data, target = batch\n",
        "        if is_cuda:\n",
        "            data, target = data.cuda(), target.cuda()\n",
        "        with torch.no_grad():\n",
        "            data, target = Variable(data), Variable(target)\n",
        "        output = model(data)\n",
        "        loss += criterion(output, target, size_average=False).data[0]\n",
        "        # predict the argmax of the log-probabilities\n",
        "        pred = output.data.max(1, keepdim=True)[1]\n",
        "        correct += pred.eq(target.data.view_as(pred)).cpu().sum()\n",
        "        n_examples += pred.size(0)\n",
        "        if n_batches and (batch_i >= n_batches):\n",
        "            break\n",
        "\n",
        "    loss /= n_examples\n",
        "    acc = 100. * correct / n_examples\n",
        "    if verbose:\n",
        "        print('{} set: Average loss: {:.4f}, Accuracy: {}/{} ({:.0f}%)'.format(\n",
        "            split, loss, correct, n_examples, acc))\n",
        "    return loss, acc"
      ],
      "execution_count": 0,
      "outputs": []
    },
    {
      "metadata": {
        "id": "AIq3P9D2TIVj",
        "colab_type": "text"
      },
      "cell_type": "markdown",
      "source": [
        "## Plot Training curves"
      ]
    },
    {
      "metadata": {
        "id": "0N3RLvpguh5z",
        "colab_type": "code",
        "colab": {}
      },
      "cell_type": "code",
      "source": [
        "import matplotlib\n",
        "# This is needed to save images \n",
        "# matplotlib.use('Agg')\n",
        "\n",
        "import matplotlib.pyplot as plt\n",
        "%matplotlib inline\n",
        "import re\n",
        "\n",
        "def parse_log_string(f):\n",
        "    # Parse the train and val losses one line at a time.\n",
        "\n",
        "    # regexes to find train and val losses on a line\n",
        "    float_regex = r'[-+]?(\\d+(\\.\\d*)?|\\.\\d+)([eE][-+]?\\d+)?'\n",
        "    train_loss_re = re.compile('.*Train Loss: ({})'.format(float_regex))\n",
        "    val_loss_re = re.compile('.*Val Loss: ({})'.format(float_regex))\n",
        "    val_acc_re = re.compile('.*Val Acc: ({})'.format(float_regex))\n",
        "    \n",
        "    # extract one loss for each logged iteration\n",
        "    train_losses = []\n",
        "    val_losses = []\n",
        "    val_accs = []\n",
        "        \n",
        "    for line in f:\n",
        "        train_match = train_loss_re.match(line)\n",
        "        val_match = val_loss_re.match(line)\n",
        "        val_acc_match = val_acc_re.match(line)\n",
        "        if train_match:\n",
        "            train_losses.append(float(train_match.group(1)))\n",
        "        if val_match:\n",
        "            val_losses.append(float(val_match.group(1)))\n",
        "        if val_acc_match:\n",
        "            val_accs.append(float(val_acc_match.group(1)))\n",
        "    \n",
        "    return train_losses, val_losses, val_accs\n",
        "    \n",
        "def plot_curves(train_losses, val_losses, val_accs, clf_name):\n",
        "    fig = plt.figure()\n",
        "    plt.plot(train_losses, label='Train')\n",
        "    plt.plot(val_losses, label='Val')\n",
        "    plt.title(clf_name + 'Learning Curve')\n",
        "    plt.ylabel('Loss')\n",
        "    plt.legend()\n",
        "\n",
        "    fig = plt.figure()\n",
        "    plt.plot(val_accs, label='Val')\n",
        "    plt.title(clf_name + ' Validation Accuracy During Training')\n",
        "    plt.ylabel('Accuracy')\n",
        "    plt.legend()\n",
        "    \n",
        "def tr_curves(log_str, clf_name=\"My Model\"):\n",
        "    train_losses, val_losses, val_accs = parse_log_string(log_str)\n",
        "    plot_curves(train_losses, val_losses, val_accs, clf_name)"
      ],
      "execution_count": 0,
      "outputs": []
    },
    {
      "metadata": {
        "id": "kP03Za2ERSHp",
        "colab_type": "text"
      },
      "cell_type": "markdown",
      "source": [
        "## Core Executor\n",
        "\n",
        "- Loads the model\n",
        "- Loads the dataset\n",
        "- Defines the optimizer and loss function\n",
        "- Trains the model for provided number of epochs"
      ]
    },
    {
      "metadata": {
        "id": "kfCvJVr1N_A-",
        "colab_type": "code",
        "colab": {}
      },
      "cell_type": "code",
      "source": [
        "def main(lr, momentum, epochs, model_name, hidden_dim, kernel_size, weight_decay=0.0, batch_size=512, seed=1, \n",
        "               test_batch_size=1000, log_interval=10, cifar_10_dir=\"data\", load_model_file=None):\n",
        "  \n",
        "  is_cuda = torch.cuda.is_available()\n",
        "  kwargs = {'num_workers': 1, 'pin_memory': True} if is_cuda else {}\n",
        "\n",
        "  torch.manual_seed(seed)\n",
        "\n",
        "  n_classes = 10\n",
        "  im_size = (3, 32, 32)\n",
        "\n",
        "  cifar10_mean_color = [0.49131522, 0.48209435, 0.44646862]\n",
        "  # std dev of color across training images\n",
        "  cifar10_std_color = [0.01897398, 0.03039277, 0.03872553]\n",
        "  \n",
        "  transform = transforms.Compose([\n",
        "      transforms.ToTensor(),\n",
        "      transforms.Normalize(cifar10_mean_color, cifar10_std_color),\n",
        "  ])\n",
        "  \n",
        "  # Model Loader\n",
        "  if load_model_file:\n",
        "    print(\"Loading model...\")\n",
        "    model = torch.load(load_model_file)\n",
        "    print(\"Loaded model...\")\n",
        "  else:\n",
        "    if model_name == 'softmax':\n",
        "      model = Softmax(im_size, n_classes)\n",
        "    elif model_name == 'twolayernn':\n",
        "        model = TwoLayerNN(im_size, hidden_dim, n_classes)\n",
        "    elif model_name == 'convnet':\n",
        "        model = CNN(im_size, hidden_dim, kernel_size, n_classes)\n",
        "    elif model_name == 'mymodel':\n",
        "        model = MyModel(im_size, hidden_dim, kernel_size, n_classes)\n",
        "    else:\n",
        "        raise Exception('Unknown model {}'.format(args.model))\n",
        "  \n",
        "  # Datasets\n",
        "  train_dataset = CIFAR10(cifar_10_dir, split='train', download=True, transform=transform)\n",
        "  val_dataset = CIFAR10(cifar_10_dir, split='val', download=True, transform=transform)\n",
        "  test_dataset = CIFAR10(cifar_10_dir, split='test', download=True, transform=transform)\n",
        "\n",
        "  # DataLoaders\n",
        "  train_loader = torch.utils.data.DataLoader(train_dataset, batch_size=batch_size, shuffle=True)\n",
        "  val_loader = torch.utils.data.DataLoader(val_dataset, batch_size=batch_size, shuffle=True)\n",
        "  test_loader = torch.utils.data.DataLoader(test_dataset, batch_size=batch_size, shuffle=True)\n",
        "\n",
        "  if is_cuda:\n",
        "      model.cuda()\n",
        "\n",
        "  criterion = F.cross_entropy\n",
        "# optimizer = optim.SGD(model.parameters(), lr=lr, momentum=momentum, weight_decay=weight_decay)\n",
        "  optimizer = optim.RMSprop(model.parameters(), lr=lr, momentum=momentum, weight_decay=weight_decay)\n",
        "  scheduler = optim.lr_scheduler.MultiStepLR(optimizer, milestones=[5, 9, 12, 18], gamma=0.3)\n",
        "\n",
        "  ret_strs = []\n",
        "  for epoch in range(1, epochs + 1):\n",
        "      scheduler.step()\n",
        "      ret_strs = ret_strs + train(epoch, model, train_loader, is_cuda, criterion, optimizer, log_interval, val_loader)\n",
        "      file_name = model_name + \"_after5_\" + get_time() + str(epoch) + '.pt'\n",
        "      torch.save(model, file_name)\n",
        "\n",
        "  evaluate(is_cuda=is_cuda, split='test', criterion=criterion, verbose=True, model=model, loader=test_loader)\n",
        "  tr_curves(ret_strs)\n",
        "  torch.save(model, model_name+get_time()+'_final.pt')\n"
      ],
      "execution_count": 0,
      "outputs": []
    },
    {
      "metadata": {
        "id": "envU9ODJQ58J",
        "colab_type": "text"
      },
      "cell_type": "markdown",
      "source": [
        "# Model Definition"
      ]
    },
    {
      "metadata": {
        "id": "UOUv8Vt4Q82Y",
        "colab_type": "text"
      },
      "cell_type": "markdown",
      "source": [
        "## Softmax Classifier"
      ]
    },
    {
      "metadata": {
        "id": "gk_0rbjEO1s8",
        "colab_type": "code",
        "colab": {}
      },
      "cell_type": "code",
      "source": [
        "\n",
        "class Softmax(nn.Module):\n",
        "    def __init__(self, im_size, n_classes):\n",
        "        super(Softmax, self).__init__()\n",
        "        ch, h, w = im_size\n",
        "        C = n_classes\n",
        "        self.model = torch.nn.Sequential(\n",
        "            nn.Linear(ch * h * w, C, bias=True),\n",
        "            nn.ReLU(),\n",
        "            nn.Softmax()\n",
        "        )\n",
        "\n",
        "    def forward(self, images):\n",
        "        scores = None\n",
        "        N, C, H, W = images.shape\n",
        "        scores = self.model(images.reshape(N, C*H*W))\n",
        "        return scores"
      ],
      "execution_count": 0,
      "outputs": []
    },
    {
      "metadata": {
        "id": "W4glnLsdRA84",
        "colab_type": "text"
      },
      "cell_type": "markdown",
      "source": [
        "## Custom ConvNet Classifier\n",
        "\n",
        "**Model Description**\n",
        "\n",
        "- Input \n",
        "- [ Conv[512 x 3 x 3]  - ReLU - BatchNorm - MaxPool ] \n",
        "- [ Conv[1024 x 3 x 3]  - ReLU - BatchNorm - MaxPool ] \n",
        "- [ Conv[1536 x 3 x 3]  - ReLU - BatchNorm - MaxPool ] \n",
        "- [ Conv[2048 x 3 x 3]  - ReLU - BatchNorm - MaxPool ] \n",
        "- [ FC[8192 x 4096 ] - ReLU -BatchNorm ] \n",
        "- [ FC[4096 x 2048 ] - ReLU -BatchNorm ]  \n",
        "- [ FC[2048 x C ] - ReLU -BatchNorm ] \n",
        "- Softmax"
      ]
    },
    {
      "metadata": {
        "id": "x2jFFRTRqmqx",
        "colab_type": "code",
        "colab": {}
      },
      "cell_type": "code",
      "source": [
        "class MyModel(nn.Module):\n",
        "  def __init__(self, im_size, hidden_dim, kernel_size, n_classes):\n",
        "      \"\"\"\n",
        "      Extra credit model\n",
        "\n",
        "      Arguments:\n",
        "          im_size (tuple): A tuple of ints with (channels, height, width)\n",
        "          hidden_dim (int): Number of hidden activations to use\n",
        "          kernel_size (int): Width and height of (square) convolution filters\n",
        "          n_classes (int): Number of classes to score\n",
        "      \"\"\"\n",
        "      super(MyModel, self).__init__()\n",
        "      ch, h, w = im_size\n",
        "      C = n_classes\n",
        "\n",
        "      self.conv_block_1 = torch.nn.Sequential(\n",
        "          nn.Conv2d(in_channels=ch, out_channels=512, kernel_size=(kernel_size, kernel_size), padding=1),\n",
        "          nn.ReLU(),\n",
        "          nn.BatchNorm2d(512),\n",
        "#           nn.MaxPool2d(kernel_size=(2, 2))\n",
        "      )\n",
        "\n",
        "      self.conv_block_2 = torch.nn.Sequential(\n",
        "          nn.Conv2d(in_channels=512, out_channels=512 * 2, kernel_size=(kernel_size, kernel_size), padding=1),\n",
        "          nn.ReLU(),\n",
        "          nn.BatchNorm2d(512 * 2),\n",
        "          nn.MaxPool2d(kernel_size=(3, 3))\n",
        "      )\n",
        "\n",
        "      self.conv_block_3 = torch.nn.Sequential(\n",
        "          nn.Conv2d(in_channels=512 * 2, out_channels=512 * 3, kernel_size=(kernel_size, kernel_size), padding=1),\n",
        "          nn.ReLU(),\n",
        "          nn.BatchNorm2d(512 * 3),\n",
        "#           nn.MaxPool2d(kernel_size=(2, 2))\n",
        "      )\n",
        "\n",
        "      self.conv_block_4 = torch.nn.Sequential(\n",
        "          nn.Conv2d(in_channels=512 * 3, out_channels=512 * 4, kernel_size=(kernel_size, kernel_size), padding=1),\n",
        "          nn.ReLU(),\n",
        "          nn.BatchNorm2d(512 * 4),\n",
        "          nn.MaxPool2d(kernel_size=(3, 3))\n",
        "      )\n",
        "\n",
        "      self.conv_blocks = nn.Sequential(\n",
        "          self.conv_block_1,\n",
        "          self.conv_block_2,\n",
        "          self.conv_block_3,\n",
        "          self.conv_block_4\n",
        "      )\n",
        "\n",
        "      nn.init.xavier_normal_(self.conv_blocks[0][0].weight)\n",
        "      nn.init.xavier_normal_(self.conv_blocks[1][0].weight)\n",
        "      nn.init.xavier_normal_(self.conv_blocks[2][0].weight)\n",
        "      nn.init.xavier_normal_(self.conv_blocks[3][0].weight)\n",
        "\n",
        "      self.fcn_1 = torch.nn.Sequential(\n",
        "          nn.Linear(512 * 4 * 3 * 3, 8192),\n",
        "          nn.ReLU(),\n",
        "\n",
        "          nn.Linear(8192, 4096),\n",
        "          nn.ReLU(),\n",
        "          nn.BatchNorm1d(4096),\n",
        "          \n",
        "          nn.Linear(4096, 2048),\n",
        "          nn.ReLU(),\n",
        "          \n",
        "          nn.Linear(2048, C),\n",
        "#           nn.ReLU(),\n",
        "          nn.Softmax(1)\n",
        "      )\n",
        "      nn.init.xavier_normal_(self.fcn_1[0].weight)\n",
        "      nn.init.xavier_normal_(self.fcn_1[2].weight)\n",
        "      nn.init.xavier_normal_(self.fcn_1[5].weight)\n",
        "      nn.init.xavier_normal_(self.fcn_1[7].weight)\n",
        "\n",
        "  def forward(self, images):\n",
        "      scores = None\n",
        "      N = images.shape[0]\n",
        "      scores = self.fcn_1(self.conv_blocks(images).reshape(N, -1))\n",
        "      return scores\n"
      ],
      "execution_count": 0,
      "outputs": []
    },
    {
      "metadata": {
        "id": "4vJ_qcwXUg0V",
        "colab_type": "text"
      },
      "cell_type": "markdown",
      "source": [
        "# Executor"
      ]
    },
    {
      "metadata": {
        "id": "8ccMicGyOHq5",
        "colab_type": "code",
        "colab": {
          "base_uri": "https://localhost:8080/",
          "height": 3930
        },
        "outputId": "ea1a3132-bb2d-49e3-90e1-981c185d8c20"
      },
      "cell_type": "code",
      "source": [
        "import torch as torch\n",
        "main(lr = 1e-6, \n",
        "     momentum = 0.9, \n",
        "     weight_decay = 1e-4, \n",
        "     batch_size = 64, \n",
        "     epochs = 20, \n",
        "     model_name = \"mymodel\", \n",
        "     hidden_dim = 50, \n",
        "     kernel_size = 3,\n",
        "     seed = 1,            \n",
        "     test_batch_size = 1000, \n",
        "     log_interval = 30, \n",
        "     cifar_10_dir = \"data\"\n",
        "    )"
      ],
      "execution_count": 0,
      "outputs": [
        {
          "output_type": "stream",
          "text": [
            "Files already downloaded and verified\n",
            "Files already downloaded and verified\n",
            "Files already downloaded and verified\n"
          ],
          "name": "stdout"
        },
        {
          "output_type": "stream",
          "text": [
            "/usr/local/lib/python3.6/dist-packages/ipykernel_launcher.py:16: UserWarning: invalid index of a 0-dim tensor. This will be an error in PyTorch 0.5. Use tensor.item() to convert a 0-dim tensor to a Python number\n",
            "  app.launch_new_instance()\n"
          ],
          "name": "stderr"
        },
        {
          "output_type": "stream",
          "text": [
            "val set: Average loss: 2.3025, Accuracy: 36/320 (11%)\n",
            "Train Epoch: 1 [0/49000 (0%)]\t Train Loss: 2.316262\tVal Loss: 2.302521\tVal Acc: 11\n"
          ],
          "name": "stdout"
        },
        {
          "output_type": "stream",
          "text": [
            "/usr/local/lib/python3.6/dist-packages/ipykernel_launcher.py:15: UserWarning: invalid index of a 0-dim tensor. This will be an error in PyTorch 0.5. Use tensor.item() to convert a 0-dim tensor to a Python number\n",
            "  from ipykernel import kernelapp as app\n"
          ],
          "name": "stderr"
        },
        {
          "output_type": "stream",
          "text": [
            "val set: Average loss: 2.2961, Accuracy: 59/320 (18%)\n",
            "Train Epoch: 1 [1920/49000 (4%)]\t Train Loss: 2.296169\tVal Loss: 2.296129\tVal Acc: 18\n",
            "val set: Average loss: 2.2754, Accuracy: 44/320 (13%)\n",
            "Train Epoch: 1 [3840/49000 (8%)]\t Train Loss: 2.258315\tVal Loss: 2.275429\tVal Acc: 13\n",
            "val set: Average loss: 2.2195, Accuracy: 76/320 (23%)\n",
            "Train Epoch: 1 [5760/49000 (12%)]\t Train Loss: 2.231833\tVal Loss: 2.219515\tVal Acc: 23\n",
            "val set: Average loss: 2.1932, Accuracy: 84/320 (26%)\n",
            "Train Epoch: 1 [7680/49000 (16%)]\t Train Loss: 2.207702\tVal Loss: 2.193172\tVal Acc: 26\n",
            "val set: Average loss: 2.1401, Accuracy: 105/320 (32%)\n",
            "Train Epoch: 1 [9600/49000 (20%)]\t Train Loss: 2.121985\tVal Loss: 2.140119\tVal Acc: 32\n",
            "val set: Average loss: 2.1185, Accuracy: 103/320 (32%)\n",
            "Train Epoch: 1 [11520/49000 (23%)]\t Train Loss: 2.106092\tVal Loss: 2.118485\tVal Acc: 32\n",
            "val set: Average loss: 2.1604, Accuracy: 88/320 (27%)\n",
            "Train Epoch: 1 [13440/49000 (27%)]\t Train Loss: 2.108019\tVal Loss: 2.160435\tVal Acc: 27\n",
            "val set: Average loss: 2.1161, Accuracy: 108/320 (33%)\n",
            "Train Epoch: 1 [15360/49000 (31%)]\t Train Loss: 2.147508\tVal Loss: 2.116050\tVal Acc: 33\n",
            "val set: Average loss: 2.1042, Accuracy: 110/320 (34%)\n",
            "Train Epoch: 1 [17280/49000 (35%)]\t Train Loss: 2.051982\tVal Loss: 2.104234\tVal Acc: 34\n",
            "val set: Average loss: 2.0846, Accuracy: 119/320 (37%)\n",
            "Train Epoch: 1 [19200/49000 (39%)]\t Train Loss: 2.053810\tVal Loss: 2.084608\tVal Acc: 37\n",
            "val set: Average loss: 2.0772, Accuracy: 125/320 (39%)\n",
            "Train Epoch: 1 [21120/49000 (43%)]\t Train Loss: 2.079664\tVal Loss: 2.077198\tVal Acc: 39\n",
            "val set: Average loss: 2.0739, Accuracy: 122/320 (38%)\n",
            "Train Epoch: 1 [23040/49000 (47%)]\t Train Loss: 2.108826\tVal Loss: 2.073850\tVal Acc: 38\n",
            "val set: Average loss: 2.0488, Accuracy: 132/320 (41%)\n",
            "Train Epoch: 1 [24960/49000 (51%)]\t Train Loss: 2.066814\tVal Loss: 2.048765\tVal Acc: 41\n",
            "val set: Average loss: 2.0436, Accuracy: 132/320 (41%)\n",
            "Train Epoch: 1 [26880/49000 (55%)]\t Train Loss: 2.060652\tVal Loss: 2.043625\tVal Acc: 41\n",
            "val set: Average loss: 1.9825, Accuracy: 163/320 (50%)\n",
            "Train Epoch: 1 [28800/49000 (59%)]\t Train Loss: 2.074469\tVal Loss: 1.982535\tVal Acc: 50\n",
            "val set: Average loss: 2.0665, Accuracy: 126/320 (39%)\n",
            "Train Epoch: 1 [30720/49000 (63%)]\t Train Loss: 2.093370\tVal Loss: 2.066472\tVal Acc: 39\n",
            "val set: Average loss: 2.0108, Accuracy: 149/320 (46%)\n",
            "Train Epoch: 1 [32640/49000 (67%)]\t Train Loss: 2.068801\tVal Loss: 2.010836\tVal Acc: 46\n",
            "val set: Average loss: 2.0086, Accuracy: 151/320 (47%)\n",
            "Train Epoch: 1 [34560/49000 (70%)]\t Train Loss: 2.006504\tVal Loss: 2.008618\tVal Acc: 47\n",
            "val set: Average loss: 1.9860, Accuracy: 154/320 (48%)\n",
            "Train Epoch: 1 [36480/49000 (74%)]\t Train Loss: 2.048855\tVal Loss: 1.986041\tVal Acc: 48\n",
            "val set: Average loss: 2.0172, Accuracy: 141/320 (44%)\n",
            "Train Epoch: 1 [38400/49000 (78%)]\t Train Loss: 2.048332\tVal Loss: 2.017212\tVal Acc: 44\n",
            "val set: Average loss: 2.0335, Accuracy: 137/320 (42%)\n",
            "Train Epoch: 1 [40320/49000 (82%)]\t Train Loss: 2.086601\tVal Loss: 2.033548\tVal Acc: 42\n",
            "val set: Average loss: 1.9911, Accuracy: 146/320 (45%)\n",
            "Train Epoch: 1 [42240/49000 (86%)]\t Train Loss: 1.995565\tVal Loss: 1.991132\tVal Acc: 45\n",
            "val set: Average loss: 2.0113, Accuracy: 141/320 (44%)\n",
            "Train Epoch: 1 [44160/49000 (90%)]\t Train Loss: 2.025934\tVal Loss: 2.011346\tVal Acc: 44\n",
            "val set: Average loss: 1.9717, Accuracy: 157/320 (49%)\n",
            "Train Epoch: 1 [46080/49000 (94%)]\t Train Loss: 1.998747\tVal Loss: 1.971726\tVal Acc: 49\n",
            "val set: Average loss: 1.9940, Accuracy: 155/320 (48%)\n",
            "Train Epoch: 1 [48000/49000 (98%)]\t Train Loss: 2.006012\tVal Loss: 1.994009\tVal Acc: 48\n"
          ],
          "name": "stdout"
        },
        {
          "output_type": "stream",
          "text": [
            "/usr/local/lib/python3.6/dist-packages/torch/serialization.py:193: UserWarning: Couldn't retrieve source code for container of type MyModel. It won't be checked for correctness upon loading.\n",
            "  \"type \" + obj.__name__ + \". It won't be checked \"\n"
          ],
          "name": "stderr"
        },
        {
          "output_type": "stream",
          "text": [
            "val set: Average loss: 2.0842, Accuracy: 124/320 (38%)\n",
            "Train Epoch: 2 [0/49000 (0%)]\t Train Loss: 2.023555\tVal Loss: 2.084224\tVal Acc: 38\n",
            "val set: Average loss: 2.0084, Accuracy: 145/320 (45%)\n",
            "Train Epoch: 2 [1920/49000 (4%)]\t Train Loss: 1.983779\tVal Loss: 2.008441\tVal Acc: 45\n",
            "val set: Average loss: 1.9901, Accuracy: 152/320 (47%)\n",
            "Train Epoch: 2 [3840/49000 (8%)]\t Train Loss: 2.058315\tVal Loss: 1.990101\tVal Acc: 47\n",
            "val set: Average loss: 1.9607, Accuracy: 164/320 (51%)\n",
            "Train Epoch: 2 [5760/49000 (12%)]\t Train Loss: 1.997451\tVal Loss: 1.960741\tVal Acc: 51\n",
            "val set: Average loss: 1.9627, Accuracy: 165/320 (51%)\n",
            "Train Epoch: 2 [7680/49000 (16%)]\t Train Loss: 1.966949\tVal Loss: 1.962688\tVal Acc: 51\n",
            "val set: Average loss: 1.9621, Accuracy: 156/320 (48%)\n",
            "Train Epoch: 2 [9600/49000 (20%)]\t Train Loss: 1.942251\tVal Loss: 1.962108\tVal Acc: 48\n",
            "val set: Average loss: 1.9863, Accuracy: 153/320 (47%)\n",
            "Train Epoch: 2 [11520/49000 (23%)]\t Train Loss: 1.989836\tVal Loss: 1.986265\tVal Acc: 47\n",
            "val set: Average loss: 1.9789, Accuracy: 157/320 (49%)\n",
            "Train Epoch: 2 [13440/49000 (27%)]\t Train Loss: 1.866241\tVal Loss: 1.978880\tVal Acc: 49\n",
            "val set: Average loss: 1.9411, Accuracy: 168/320 (52%)\n",
            "Train Epoch: 2 [15360/49000 (31%)]\t Train Loss: 1.942893\tVal Loss: 1.941054\tVal Acc: 52\n",
            "val set: Average loss: 2.0065, Accuracy: 143/320 (44%)\n",
            "Train Epoch: 2 [17280/49000 (35%)]\t Train Loss: 1.964538\tVal Loss: 2.006468\tVal Acc: 44\n",
            "val set: Average loss: 1.9840, Accuracy: 148/320 (46%)\n",
            "Train Epoch: 2 [19200/49000 (39%)]\t Train Loss: 2.004867\tVal Loss: 1.984038\tVal Acc: 46\n",
            "val set: Average loss: 1.9064, Accuracy: 180/320 (56%)\n",
            "Train Epoch: 2 [21120/49000 (43%)]\t Train Loss: 2.052971\tVal Loss: 1.906419\tVal Acc: 56\n",
            "val set: Average loss: 1.9291, Accuracy: 171/320 (53%)\n",
            "Train Epoch: 2 [23040/49000 (47%)]\t Train Loss: 1.921689\tVal Loss: 1.929065\tVal Acc: 53\n",
            "val set: Average loss: 1.9867, Accuracy: 147/320 (45%)\n",
            "Train Epoch: 2 [24960/49000 (51%)]\t Train Loss: 1.910474\tVal Loss: 1.986675\tVal Acc: 45\n",
            "val set: Average loss: 1.9222, Accuracy: 174/320 (54%)\n",
            "Train Epoch: 2 [26880/49000 (55%)]\t Train Loss: 1.913347\tVal Loss: 1.922219\tVal Acc: 54\n",
            "val set: Average loss: 1.9705, Accuracy: 156/320 (48%)\n",
            "Train Epoch: 2 [28800/49000 (59%)]\t Train Loss: 1.929950\tVal Loss: 1.970470\tVal Acc: 48\n",
            "val set: Average loss: 1.9329, Accuracy: 168/320 (52%)\n",
            "Train Epoch: 2 [30720/49000 (63%)]\t Train Loss: 1.991014\tVal Loss: 1.932906\tVal Acc: 52\n",
            "val set: Average loss: 1.9472, Accuracy: 165/320 (51%)\n",
            "Train Epoch: 2 [32640/49000 (67%)]\t Train Loss: 2.054275\tVal Loss: 1.947218\tVal Acc: 51\n",
            "val set: Average loss: 1.9453, Accuracy: 164/320 (51%)\n",
            "Train Epoch: 2 [34560/49000 (70%)]\t Train Loss: 1.923812\tVal Loss: 1.945294\tVal Acc: 51\n",
            "val set: Average loss: 1.9364, Accuracy: 173/320 (54%)\n",
            "Train Epoch: 2 [36480/49000 (74%)]\t Train Loss: 1.906450\tVal Loss: 1.936438\tVal Acc: 54\n",
            "val set: Average loss: 1.9408, Accuracy: 158/320 (49%)\n",
            "Train Epoch: 2 [38400/49000 (78%)]\t Train Loss: 1.821382\tVal Loss: 1.940820\tVal Acc: 49\n",
            "val set: Average loss: 1.9034, Accuracy: 182/320 (56%)\n",
            "Train Epoch: 2 [40320/49000 (82%)]\t Train Loss: 1.960472\tVal Loss: 1.903416\tVal Acc: 56\n",
            "val set: Average loss: 1.9580, Accuracy: 165/320 (51%)\n",
            "Train Epoch: 2 [42240/49000 (86%)]\t Train Loss: 2.001090\tVal Loss: 1.957958\tVal Acc: 51\n",
            "val set: Average loss: 1.9214, Accuracy: 178/320 (55%)\n",
            "Train Epoch: 2 [44160/49000 (90%)]\t Train Loss: 1.951746\tVal Loss: 1.921441\tVal Acc: 55\n",
            "val set: Average loss: 1.9191, Accuracy: 178/320 (55%)\n",
            "Train Epoch: 2 [46080/49000 (94%)]\t Train Loss: 1.948536\tVal Loss: 1.919087\tVal Acc: 55\n",
            "val set: Average loss: 1.9193, Accuracy: 175/320 (54%)\n",
            "Train Epoch: 2 [48000/49000 (98%)]\t Train Loss: 1.839329\tVal Loss: 1.919275\tVal Acc: 54\n",
            "val set: Average loss: 1.9760, Accuracy: 158/320 (49%)\n",
            "Train Epoch: 3 [0/49000 (0%)]\t Train Loss: 1.964464\tVal Loss: 1.975980\tVal Acc: 49\n",
            "val set: Average loss: 1.9016, Accuracy: 182/320 (56%)\n",
            "Train Epoch: 3 [1920/49000 (4%)]\t Train Loss: 1.913830\tVal Loss: 1.901602\tVal Acc: 56\n",
            "val set: Average loss: 1.9276, Accuracy: 170/320 (53%)\n",
            "Train Epoch: 3 [3840/49000 (8%)]\t Train Loss: 1.923113\tVal Loss: 1.927637\tVal Acc: 53\n",
            "val set: Average loss: 1.9313, Accuracy: 168/320 (52%)\n",
            "Train Epoch: 3 [5760/49000 (12%)]\t Train Loss: 1.964093\tVal Loss: 1.931305\tVal Acc: 52\n",
            "val set: Average loss: 1.9187, Accuracy: 178/320 (55%)\n",
            "Train Epoch: 3 [7680/49000 (16%)]\t Train Loss: 2.021224\tVal Loss: 1.918685\tVal Acc: 55\n",
            "val set: Average loss: 1.8959, Accuracy: 179/320 (55%)\n",
            "Train Epoch: 3 [9600/49000 (20%)]\t Train Loss: 1.829177\tVal Loss: 1.895908\tVal Acc: 55\n",
            "val set: Average loss: 1.9138, Accuracy: 180/320 (56%)\n",
            "Train Epoch: 3 [11520/49000 (23%)]\t Train Loss: 1.872330\tVal Loss: 1.913836\tVal Acc: 56\n",
            "val set: Average loss: 1.8897, Accuracy: 183/320 (57%)\n",
            "Train Epoch: 3 [13440/49000 (27%)]\t Train Loss: 1.875252\tVal Loss: 1.889722\tVal Acc: 57\n",
            "val set: Average loss: 1.8775, Accuracy: 189/320 (59%)\n",
            "Train Epoch: 3 [15360/49000 (31%)]\t Train Loss: 1.905422\tVal Loss: 1.877457\tVal Acc: 59\n",
            "val set: Average loss: 1.8843, Accuracy: 190/320 (59%)\n",
            "Train Epoch: 3 [17280/49000 (35%)]\t Train Loss: 1.808020\tVal Loss: 1.884257\tVal Acc: 59\n",
            "val set: Average loss: 1.8999, Accuracy: 181/320 (56%)\n",
            "Train Epoch: 3 [19200/49000 (39%)]\t Train Loss: 1.873062\tVal Loss: 1.899891\tVal Acc: 56\n",
            "val set: Average loss: 1.8645, Accuracy: 192/320 (60%)\n",
            "Train Epoch: 3 [21120/49000 (43%)]\t Train Loss: 1.902691\tVal Loss: 1.864537\tVal Acc: 60\n",
            "val set: Average loss: 1.9014, Accuracy: 181/320 (56%)\n",
            "Train Epoch: 3 [23040/49000 (47%)]\t Train Loss: 1.884850\tVal Loss: 1.901400\tVal Acc: 56\n",
            "val set: Average loss: 1.9206, Accuracy: 175/320 (54%)\n",
            "Train Epoch: 3 [24960/49000 (51%)]\t Train Loss: 1.946376\tVal Loss: 1.920562\tVal Acc: 54\n",
            "val set: Average loss: 1.9238, Accuracy: 171/320 (53%)\n",
            "Train Epoch: 3 [26880/49000 (55%)]\t Train Loss: 1.893287\tVal Loss: 1.923805\tVal Acc: 53\n",
            "val set: Average loss: 1.9268, Accuracy: 172/320 (53%)\n",
            "Train Epoch: 3 [28800/49000 (59%)]\t Train Loss: 1.954721\tVal Loss: 1.926763\tVal Acc: 53\n",
            "val set: Average loss: 1.8691, Accuracy: 190/320 (59%)\n",
            "Train Epoch: 3 [30720/49000 (63%)]\t Train Loss: 1.868492\tVal Loss: 1.869099\tVal Acc: 59\n",
            "val set: Average loss: 1.9014, Accuracy: 178/320 (55%)\n",
            "Train Epoch: 3 [32640/49000 (67%)]\t Train Loss: 1.843538\tVal Loss: 1.901410\tVal Acc: 55\n",
            "val set: Average loss: 1.8805, Accuracy: 186/320 (58%)\n",
            "Train Epoch: 3 [34560/49000 (70%)]\t Train Loss: 1.822575\tVal Loss: 1.880463\tVal Acc: 58\n",
            "val set: Average loss: 1.8411, Accuracy: 202/320 (63%)\n",
            "Train Epoch: 3 [36480/49000 (74%)]\t Train Loss: 1.956375\tVal Loss: 1.841115\tVal Acc: 63\n",
            "val set: Average loss: 1.8911, Accuracy: 182/320 (56%)\n",
            "Train Epoch: 3 [38400/49000 (78%)]\t Train Loss: 1.873632\tVal Loss: 1.891101\tVal Acc: 56\n",
            "val set: Average loss: 1.8624, Accuracy: 191/320 (59%)\n",
            "Train Epoch: 3 [40320/49000 (82%)]\t Train Loss: 1.866669\tVal Loss: 1.862419\tVal Acc: 59\n",
            "val set: Average loss: 1.8358, Accuracy: 206/320 (64%)\n",
            "Train Epoch: 3 [42240/49000 (86%)]\t Train Loss: 1.844315\tVal Loss: 1.835778\tVal Acc: 64\n",
            "val set: Average loss: 1.8619, Accuracy: 190/320 (59%)\n",
            "Train Epoch: 3 [44160/49000 (90%)]\t Train Loss: 1.969102\tVal Loss: 1.861884\tVal Acc: 59\n",
            "val set: Average loss: 1.8679, Accuracy: 190/320 (59%)\n",
            "Train Epoch: 3 [46080/49000 (94%)]\t Train Loss: 1.858768\tVal Loss: 1.867943\tVal Acc: 59\n",
            "val set: Average loss: 1.8783, Accuracy: 184/320 (57%)\n",
            "Train Epoch: 3 [48000/49000 (98%)]\t Train Loss: 1.950641\tVal Loss: 1.878332\tVal Acc: 57\n",
            "val set: Average loss: 1.9137, Accuracy: 174/320 (54%)\n",
            "Train Epoch: 4 [0/49000 (0%)]\t Train Loss: 1.876182\tVal Loss: 1.913736\tVal Acc: 54\n",
            "val set: Average loss: 1.8746, Accuracy: 185/320 (57%)\n",
            "Train Epoch: 4 [1920/49000 (4%)]\t Train Loss: 1.827183\tVal Loss: 1.874631\tVal Acc: 57\n",
            "val set: Average loss: 1.8658, Accuracy: 194/320 (60%)\n",
            "Train Epoch: 4 [3840/49000 (8%)]\t Train Loss: 1.845336\tVal Loss: 1.865837\tVal Acc: 60\n",
            "val set: Average loss: 1.8783, Accuracy: 189/320 (59%)\n",
            "Train Epoch: 4 [5760/49000 (12%)]\t Train Loss: 1.731736\tVal Loss: 1.878327\tVal Acc: 59\n",
            "val set: Average loss: 1.8730, Accuracy: 184/320 (57%)\n",
            "Train Epoch: 4 [7680/49000 (16%)]\t Train Loss: 1.889261\tVal Loss: 1.873020\tVal Acc: 57\n",
            "val set: Average loss: 1.8817, Accuracy: 185/320 (57%)\n",
            "Train Epoch: 4 [9600/49000 (20%)]\t Train Loss: 1.912470\tVal Loss: 1.881685\tVal Acc: 57\n",
            "val set: Average loss: 1.8724, Accuracy: 189/320 (59%)\n",
            "Train Epoch: 4 [11520/49000 (23%)]\t Train Loss: 1.885770\tVal Loss: 1.872447\tVal Acc: 59\n",
            "val set: Average loss: 1.8612, Accuracy: 192/320 (60%)\n",
            "Train Epoch: 4 [13440/49000 (27%)]\t Train Loss: 1.811737\tVal Loss: 1.861248\tVal Acc: 60\n",
            "val set: Average loss: 1.8433, Accuracy: 199/320 (62%)\n",
            "Train Epoch: 4 [15360/49000 (31%)]\t Train Loss: 1.814578\tVal Loss: 1.843324\tVal Acc: 62\n",
            "val set: Average loss: 1.8897, Accuracy: 182/320 (56%)\n",
            "Train Epoch: 4 [17280/49000 (35%)]\t Train Loss: 1.843344\tVal Loss: 1.889719\tVal Acc: 56\n",
            "val set: Average loss: 1.8976, Accuracy: 176/320 (55%)\n",
            "Train Epoch: 4 [19200/49000 (39%)]\t Train Loss: 1.844469\tVal Loss: 1.897617\tVal Acc: 55\n",
            "val set: Average loss: 1.8622, Accuracy: 192/320 (60%)\n",
            "Train Epoch: 4 [21120/49000 (43%)]\t Train Loss: 1.744812\tVal Loss: 1.862176\tVal Acc: 60\n",
            "val set: Average loss: 1.8433, Accuracy: 198/320 (61%)\n",
            "Train Epoch: 4 [23040/49000 (47%)]\t Train Loss: 1.862714\tVal Loss: 1.843347\tVal Acc: 61\n",
            "val set: Average loss: 1.8189, Accuracy: 205/320 (64%)\n",
            "Train Epoch: 4 [24960/49000 (51%)]\t Train Loss: 1.743461\tVal Loss: 1.818925\tVal Acc: 64\n",
            "val set: Average loss: 1.8343, Accuracy: 205/320 (64%)\n",
            "Train Epoch: 4 [26880/49000 (55%)]\t Train Loss: 1.843874\tVal Loss: 1.834298\tVal Acc: 64\n",
            "val set: Average loss: 1.8434, Accuracy: 198/320 (61%)\n",
            "Train Epoch: 4 [28800/49000 (59%)]\t Train Loss: 1.830377\tVal Loss: 1.843356\tVal Acc: 61\n",
            "val set: Average loss: 1.8121, Accuracy: 210/320 (65%)\n",
            "Train Epoch: 4 [30720/49000 (63%)]\t Train Loss: 1.727062\tVal Loss: 1.812062\tVal Acc: 65\n",
            "val set: Average loss: 1.8224, Accuracy: 208/320 (65%)\n",
            "Train Epoch: 4 [32640/49000 (67%)]\t Train Loss: 1.847915\tVal Loss: 1.822372\tVal Acc: 65\n",
            "val set: Average loss: 1.8670, Accuracy: 194/320 (60%)\n",
            "Train Epoch: 4 [34560/49000 (70%)]\t Train Loss: 1.798686\tVal Loss: 1.867045\tVal Acc: 60\n",
            "val set: Average loss: 1.8162, Accuracy: 204/320 (63%)\n",
            "Train Epoch: 4 [36480/49000 (74%)]\t Train Loss: 1.809681\tVal Loss: 1.816225\tVal Acc: 63\n",
            "val set: Average loss: 1.8555, Accuracy: 195/320 (60%)\n",
            "Train Epoch: 4 [38400/49000 (78%)]\t Train Loss: 1.822114\tVal Loss: 1.855542\tVal Acc: 60\n",
            "val set: Average loss: 1.8461, Accuracy: 199/320 (62%)\n",
            "Train Epoch: 4 [40320/49000 (82%)]\t Train Loss: 1.823200\tVal Loss: 1.846140\tVal Acc: 62\n",
            "val set: Average loss: 1.8720, Accuracy: 188/320 (58%)\n",
            "Train Epoch: 4 [42240/49000 (86%)]\t Train Loss: 1.806339\tVal Loss: 1.872029\tVal Acc: 58\n",
            "val set: Average loss: 1.8449, Accuracy: 196/320 (61%)\n",
            "Train Epoch: 4 [44160/49000 (90%)]\t Train Loss: 1.776030\tVal Loss: 1.844854\tVal Acc: 61\n",
            "val set: Average loss: 1.8600, Accuracy: 191/320 (59%)\n",
            "Train Epoch: 4 [46080/49000 (94%)]\t Train Loss: 1.871144\tVal Loss: 1.859994\tVal Acc: 59\n",
            "val set: Average loss: 1.8474, Accuracy: 195/320 (60%)\n",
            "Train Epoch: 4 [48000/49000 (98%)]\t Train Loss: 1.880699\tVal Loss: 1.847395\tVal Acc: 60\n",
            "val set: Average loss: 1.8653, Accuracy: 189/320 (59%)\n",
            "Train Epoch: 5 [0/49000 (0%)]\t Train Loss: 1.848584\tVal Loss: 1.865303\tVal Acc: 59\n",
            "val set: Average loss: 1.8364, Accuracy: 197/320 (61%)\n",
            "Train Epoch: 5 [1920/49000 (4%)]\t Train Loss: 1.808942\tVal Loss: 1.836419\tVal Acc: 61\n",
            "val set: Average loss: 1.8414, Accuracy: 200/320 (62%)\n",
            "Train Epoch: 5 [3840/49000 (8%)]\t Train Loss: 1.856090\tVal Loss: 1.841391\tVal Acc: 62\n",
            "val set: Average loss: 1.8205, Accuracy: 207/320 (64%)\n",
            "Train Epoch: 5 [5760/49000 (12%)]\t Train Loss: 1.878560\tVal Loss: 1.820477\tVal Acc: 64\n",
            "val set: Average loss: 1.8255, Accuracy: 203/320 (63%)\n",
            "Train Epoch: 5 [7680/49000 (16%)]\t Train Loss: 1.772972\tVal Loss: 1.825476\tVal Acc: 63\n",
            "val set: Average loss: 1.8564, Accuracy: 196/320 (61%)\n",
            "Train Epoch: 5 [9600/49000 (20%)]\t Train Loss: 1.809898\tVal Loss: 1.856418\tVal Acc: 61\n"
          ],
          "name": "stdout"
        }
      ]
    },
    {
      "metadata": {
        "id": "kGzAbFK88VNA",
        "colab_type": "code",
        "colab": {}
      },
      "cell_type": "code",
      "source": [
        "# upload_to_google_drive(\"mymodel_after5_2018-10-02 21:37:1917.pt\")"
      ],
      "execution_count": 0,
      "outputs": []
    },
    {
      "metadata": {
        "id": "RaPMiZ7R3ww3",
        "colab_type": "text"
      },
      "cell_type": "markdown",
      "source": [
        "# Evaluation "
      ]
    },
    {
      "metadata": {
        "id": "vDG7qE062ksf",
        "colab_type": "code",
        "colab": {
          "base_uri": "https://localhost:8080/",
          "height": 289
        },
        "outputId": "9a3e718b-6316-495c-c298-8d84bf1368c2"
      },
      "cell_type": "code",
      "source": [
        "# !/opt/bin/nvidia-smi\n",
        "# !ps -few\n"
      ],
      "execution_count": 23,
      "outputs": [
        {
          "output_type": "stream",
          "text": [
            "Fri Oct  5 02:42:59 2018       \n",
            "+-----------------------------------------------------------------------------+\n",
            "| NVIDIA-SMI 396.44                 Driver Version: 396.44                    |\n",
            "|-------------------------------+----------------------+----------------------+\n",
            "| GPU  Name        Persistence-M| Bus-Id        Disp.A | Volatile Uncorr. ECC |\n",
            "| Fan  Temp  Perf  Pwr:Usage/Cap|         Memory-Usage | GPU-Util  Compute M. |\n",
            "|===============================+======================+======================|\n",
            "|   0  Tesla K80           Off  | 00000000:00:04.0 Off |                    0 |\n",
            "| N/A   40C    P0    68W / 149W |  11425MiB / 11441MiB |      0%      Default |\n",
            "+-------------------------------+----------------------+----------------------+\n",
            "                                                                               \n",
            "+-----------------------------------------------------------------------------+\n",
            "| Processes:                                                       GPU Memory |\n",
            "|  GPU       PID   Type   Process name                             Usage      |\n",
            "|=============================================================================|\n",
            "+-----------------------------------------------------------------------------+\n"
          ],
          "name": "stdout"
        }
      ]
    },
    {
      "metadata": {
        "id": "XJnib3Mr3aKs",
        "colab_type": "code",
        "colab": {}
      },
      "cell_type": "code",
      "source": [
        "# NOTE: The scaffolding code for this part of the assignment\n",
        "# is adapted from https://github.com/pytorch/examples.\n",
        "from __future__ import print_function\n",
        "import argparse\n",
        "import os\n",
        "import sys\n",
        "import numpy as np\n",
        "import csv\n",
        "import torch\n",
        "import torch.nn as nn\n",
        "import torch.nn.functional as F\n",
        "import torch.optim as optim\n",
        "import urllib\n",
        "from torchvision import transforms\n",
        "from torch.autograd import Variable"
      ],
      "execution_count": 0,
      "outputs": []
    },
    {
      "metadata": {
        "id": "mej8G4Ok3Z9G",
        "colab_type": "code",
        "colab": {}
      },
      "cell_type": "code",
      "source": [
        "class ChallengeData(data.Dataset):\n",
        "    \"\"\"`CIFAR10 <https://www.cs.toronto.edu/~kriz/cifar.html>`_ Dataset.\n",
        "    Args:\n",
        "        root (string): Root directory of dataset where directory\n",
        "            ``test_images.npy`` exists.\n",
        "        transform (callable, optional): A function/transform that  takes in an PIL image\n",
        "            and returns a transformed version. E.g, ``transforms.RandomCrop``\n",
        "        download (bool, optional): If true, downloads the dataset from the internet and\n",
        "            puts it in root directory. If dataset is already downloaded, it is not\n",
        "            downloaded again.\n",
        "    \"\"\"\n",
        "    url = \"https://s3.amazonaws.com/cs7643-fall2018/test_images.npy\"\n",
        "    filename = \"test_images.npy\"\n",
        "\n",
        "    def __init__(self, root,\n",
        "                 transform=None, download=False):\n",
        "        self.root = os.path.expanduser(root)\n",
        "        self.transform = transform\n",
        "\n",
        "        if download:\n",
        "            self.download()\n",
        "\n",
        "        # now load the picked numpy arrays\n",
        "        file = os.path.join(self.root, self.filename)\n",
        "        self.test_data = np.load(file)\n",
        "\n",
        "    def __getitem__(self, index):\n",
        "        \"\"\"\n",
        "        Args:\n",
        "            index (int): Index\n",
        "        Returns:\n",
        "            tuple: (image, target) where target is index of the target class.\n",
        "        \"\"\"\n",
        "        img = self.test_data[index]\n",
        "\n",
        "        # doing this so that it is consistent with all other datasets\n",
        "        # to return a PIL Image\n",
        "        img = Image.fromarray(img.astype('uint8'))\n",
        "\n",
        "        if self.transform is not None:\n",
        "            img = self.transform(img)\n",
        "\n",
        "        return img\n",
        "\n",
        "    def __len__(self):\n",
        "        return len(self.test_data)\n",
        "\n",
        "    def download(self):\n",
        "        root = self.root\n",
        "        if not os.path.exists(os.path.join(root, self.filename)):\n",
        "            print(\"Downloading data...\")\n",
        "            urllib.request.urlretrieve(self.url, os.path.join(root, self.filename))\n",
        "            print(\"Download complete\")\n"
      ],
      "execution_count": 0,
      "outputs": []
    },
    {
      "metadata": {
        "id": "mYqoZsoN07xO",
        "colab_type": "code",
        "colab": {
          "base_uri": "https://localhost:8080/",
          "height": 1397
        },
        "outputId": "82e1f1d4-1859-44e9-c965-2ba874d35f2c"
      },
      "cell_type": "code",
      "source": [
        "def test_preds_csv(model=\"mymodel_after5_2018-10-02 21:37:1917.pt\", test_dir=\"data\", test_batch_size=256, no_cuda=False):\n",
        "\n",
        "  # Load CIFAR10 using torch data paradigm\n",
        "  kwargs = {'num_workers': 1, 'pin_memory': True}\n",
        "\n",
        "  cifar10_mean_color = [0.49131522, 0.48209435, 0.44646862]\n",
        "  # std dev of color across training images\n",
        "  cifar10_std_color = [0.01897398, 0.03039277, 0.03872553]\n",
        "\n",
        "  transform = transforms.Compose([\n",
        "                   transforms.ToTensor(),\n",
        "                   transforms.Normalize(cifar10_mean_color, cifar10_std_color),\n",
        "              ])\n",
        "  test_dataset = ChallengeData(test_dir, download=True, transform=transform)\n",
        "  # Datasets\n",
        "  test_loader = torch.utils.data.DataLoader(test_dataset, batch_size=test_batch_size, shuffle=False, **kwargs)\n",
        "\n",
        "  if os.path.exists(model):\n",
        "      model = torch.load(model)\n",
        "  else:\n",
        "      print('Model path specified does not exst')\n",
        "      sys.exit(1)\n",
        "\n",
        "  # cross-entropy loss function\n",
        "  criterion = F.cross_entropy\n",
        "  if not no_cuda:\n",
        "      model.cuda()\n",
        "\n",
        "\n",
        "  def evaluate():\n",
        "      '''\n",
        "      Compute loss on test data.\n",
        "      '''\n",
        "      model.eval()\n",
        "      loader = test_loader\n",
        "      predictions = [] \n",
        "      for batch_i, batch in enumerate(loader):\n",
        "          data = batch\n",
        "          if not no_cuda:\n",
        "              data= data.cuda()\n",
        "          data = Variable(data, volatile=True)\n",
        "          output = model(data)\n",
        "          pred = output.data.max(1, keepdim=True)[1]\n",
        "          predictions += pred.reshape(-1).tolist()\n",
        "          print('Batch:{}'.format(batch_i))\n",
        "      return predictions\n",
        "\n",
        "  predictions = evaluate()\n",
        "\n",
        "  with open('predictions.csv', 'w') as csv_file:\n",
        "      csv_writer = csv.writer(csv_file, delimiter=',')\n",
        "      csv_writer.writerow(['image_id', 'label'])\n",
        "      for i, p in enumerate(predictions):\n",
        "          csv_writer.writerow([i, int(p)])"
      ],
      "execution_count": 41,
      "outputs": [
        {
          "output_type": "stream",
          "text": [
            "/usr/local/lib/python3.6/dist-packages/ipykernel_launcher.py:110: UserWarning: volatile was removed and now has no effect. Use `with torch.no_grad():` instead.\n"
          ],
          "name": "stderr"
        },
        {
          "output_type": "stream",
          "text": [
            "Batch:0\n",
            "Batch:1\n",
            "Batch:2\n",
            "Batch:3\n",
            "Batch:4\n",
            "Batch:5\n",
            "Batch:6\n",
            "Batch:7\n",
            "Batch:8\n",
            "Batch:9\n",
            "Batch:10\n",
            "Batch:11\n",
            "Batch:12\n",
            "Batch:13\n",
            "Batch:14\n",
            "Batch:15\n",
            "Batch:16\n",
            "Batch:17\n",
            "Batch:18\n",
            "Batch:19\n",
            "Batch:20\n",
            "Batch:21\n",
            "Batch:22\n",
            "Batch:23\n",
            "Batch:24\n",
            "Batch:25\n",
            "Batch:26\n",
            "Batch:27\n",
            "Batch:28\n",
            "Batch:29\n",
            "Batch:30\n",
            "Batch:31\n",
            "Batch:32\n",
            "Batch:33\n",
            "Batch:34\n",
            "Batch:35\n",
            "Batch:36\n",
            "Batch:37\n",
            "Batch:38\n",
            "Batch:39\n",
            "Batch:40\n",
            "Batch:41\n",
            "Batch:42\n",
            "Batch:43\n",
            "Batch:44\n",
            "Batch:45\n",
            "Batch:46\n",
            "Batch:47\n",
            "Batch:48\n",
            "Batch:49\n",
            "Batch:50\n",
            "Batch:51\n",
            "Batch:52\n",
            "Batch:53\n",
            "Batch:54\n",
            "Batch:55\n",
            "Batch:56\n",
            "Batch:57\n",
            "Batch:58\n",
            "Batch:59\n",
            "Batch:60\n",
            "Batch:61\n",
            "Batch:62\n",
            "Batch:63\n",
            "Batch:64\n",
            "Batch:65\n",
            "Batch:66\n",
            "Batch:67\n",
            "Batch:68\n",
            "Batch:69\n",
            "Batch:70\n",
            "Batch:71\n",
            "Batch:72\n",
            "Batch:73\n",
            "Batch:74\n",
            "Batch:75\n",
            "Batch:76\n",
            "Batch:77\n",
            "Batch:78\n"
          ],
          "name": "stdout"
        }
      ]
    },
    {
      "metadata": {
        "id": "Ro3OjFag4jRj",
        "colab_type": "code",
        "colab": {}
      },
      "cell_type": "code",
      "source": [
        "# test_preds_csv()"
      ],
      "execution_count": 0,
      "outputs": []
    }
  ]
}